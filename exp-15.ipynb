{
 "cells": [
  {
   "cell_type": "code",
   "execution_count": 1,
   "metadata": {},
   "outputs": [
    {
     "name": "stdout",
     "output_type": "stream",
     "text": [
      "State space: Box([-4.8000002e+00 -3.4028235e+38 -4.1887903e-01 -3.4028235e+38], [4.8000002e+00 3.4028235e+38 4.1887903e-01 3.4028235e+38], (4,), float32)\n",
      "Action space: Discrete(2)\n",
      "Action: 0, Reward: 1.0, Next State: [-0.00504123 -0.24225019  0.04615125  0.26604646], Done: False, Info: {}\n",
      "Action: 1, Reward: 1.0, Next State: [-0.00988624 -0.04781627  0.05147218 -0.01173022], Done: False, Info: {}\n",
      "Action: 1, Reward: 1.0, Next State: [-0.01084256  0.14653116  0.05123757 -0.28773913], Done: False, Info: {}\n",
      "Action: 1, Reward: 1.0, Next State: [-0.00791194  0.3408864   0.04548279 -0.56383216], Done: False, Info: {}\n",
      "Action: 1, Reward: 1.0, Next State: [-0.00109421  0.5353417   0.03420615 -0.84184605], Done: False, Info: {}\n",
      "Action: 0, Reward: 1.0, Next State: [ 0.00961262  0.3397699   0.01736923 -0.5386054 ], Done: False, Info: {}\n",
      "Action: 1, Reward: 1.0, Next State: [ 0.01640802  0.5346434   0.00659712 -0.82576525], Done: False, Info: {}\n",
      "Action: 1, Reward: 1.0, Next State: [ 0.02710089  0.7296745  -0.00991819 -1.116366  ], Done: False, Info: {}\n",
      "Action: 0, Reward: 1.0, Next State: [ 0.04169438  0.5346842  -0.03224551 -0.8268108 ], Done: False, Info: {}\n",
      "Action: 0, Reward: 1.0, Next State: [ 0.05238806  0.34001765 -0.04878172 -0.5444413 ], Done: False, Info: {}\n"
     ]
    }
   ],
   "source": [
    "import gym\n",
    "import numpy as np\n",
    "import warnings\n",
    "\n",
    "# Suppress specific deprecation warnings\n",
    "warnings.filterwarnings(\"ignore\", category=DeprecationWarning)\n",
    "\n",
    "# Load the environment with render mode specified\n",
    "env = gym.make('CartPole-v1', render_mode=\"human\")\n",
    "\n",
    "# Initialize the environment to get the initial state\n",
    "state = env.reset()\n",
    "\n",
    "# Print the state space and action space\n",
    "print(\"State space:\", env.observation_space)\n",
    "print(\"Action space:\", env.action_space)\n",
    "\n",
    "\n",
    "for _ in range(10):\n",
    "    env.render() \n",
    "    action = env.action_space.sample()  \n",
    "\n",
    "    step_result = env.step(action)\n",
    "\n",
    "    if len(step_result) == 4:\n",
    "        next_state, reward, done, info = step_result\n",
    "        terminated = False\n",
    "    else:\n",
    "        next_state, reward, done, truncated, info = step_result\n",
    "        terminated = done or truncated\n",
    "    \n",
    "    print(f\"Action: {action}, Reward: {reward}, Next State: {next_state}, Done: {done}, Info: {info}\")\n",
    "    \n",
    "    if terminated:\n",
    "        state = env.reset() \n",
    "\n",
    "env.close() \n"
   ]
  }
 ],
 "metadata": {
  "kernelspec": {
   "display_name": "venv",
   "language": "python",
   "name": "python3"
  },
  "language_info": {
   "codemirror_mode": {
    "name": "ipython",
    "version": 3
   },
   "file_extension": ".py",
   "mimetype": "text/x-python",
   "name": "python",
   "nbconvert_exporter": "python",
   "pygments_lexer": "ipython3",
   "version": "3.12.1"
  }
 },
 "nbformat": 4,
 "nbformat_minor": 2
}
